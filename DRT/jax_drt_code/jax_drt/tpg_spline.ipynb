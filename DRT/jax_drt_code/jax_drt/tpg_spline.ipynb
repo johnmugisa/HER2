{
 "cells": [
  {
   "cell_type": "code",
   "execution_count": 1,
   "metadata": {},
   "outputs": [
    {
     "name": "stdout",
     "output_type": "stream",
     "text": [
      "omega max = 56588.12765431857 , omega size =  132\n"
     ]
    }
   ],
   "source": [
    "import numpy as np\n",
    "import pandas as pd\n",
    "import jax\n",
    "import jax.numpy as jnp\n",
    "import jaxopt\n",
    "from jaxopt import ProjectedGradient\n",
    "from scipy.signal import find_peaks, peak_widths\n",
    "from jaxopt.objective import ridge_regression\n",
    "from scipy.optimize import least_squares\n",
    "jax.config.update(\"jax_enable_x64\", True)\n",
    "import cmath as cm\n",
    "from PlotsSolver import Plotter\n",
    "import time\n",
    "from jaxopt.projection import projection_non_negative\n",
    "from patsy import dmatrix\n",
    "\n",
    "# --- For the main procedure and parameters see bottom part of this file\n",
    "\n",
    "def ZWarburg():\n",
    "    fmin = 0.01\n",
    "    fmax = 1e4\n",
    "    omega = np.zeros(1, dtype=np.float64)\n",
    "    omega[0] = 2 * np.pi * fmin\n",
    "    # alpha = 0.2328467394   # --- 11 points per decade\n",
    "    alpha = 0.1103363182  # --- 22 points per decade\n",
    "    # alpha = 0.07226722201  # --- 33 points per decade\n",
    "    for n in range(1000):\n",
    "        omega = np.append(omega, (1 + alpha) * omega[n])\n",
    "        if omega[-1] > 2 * np.pi * fmax:\n",
    "            break\n",
    "    omega = np.delete(omega, -1)  # --- remove last omega from the array\n",
    "    omega = np.flip(omega)        # --- reverse order of elements in omega\n",
    "    print('omega max =', omega[0], ', omega size = ', omega.size)\n",
    "    tast = 1\n",
    "    zWarb = np.zeros(omega.size, dtype=np.complex128)\n",
    "    for k in range(omega.size):\n",
    "        psi = cm.sqrt(1j * tast * omega[k])\n",
    "        zWarb[k] = cm.tanh(psi) / psi\n",
    "\n",
    "    zrew = zWarb.real\n",
    "    zimw = - zWarb.imag\n",
    "\n",
    "    return omega, zrew, zimw   # --- omega is in descending order!\n",
    "\n",
    "\n",
    "def user_data():\n",
    "    data = pd.read_csv(\n",
    "        './immfit1.csv',\n",
    "        sep=',', header=None\n",
    "    )\n",
    "    dflat = data.to_numpy()\n",
    "    omgu = dflat[:, 0] * 2 * np.pi\n",
    "    zreu = dflat[:, 1]\n",
    "    zimu = np.abs(dflat[:, 2])\n",
    "    return omgu, zreu, zimu\n",
    "\n",
    "\n",
    "# def user_data():\n",
    "#     data = pd.read_csv(\n",
    "#         './MyImpedance.dat',\n",
    "#         sep=',', header=None\n",
    "#     )\n",
    "#     dflat = data.to_numpy()\n",
    "#     omgu = dflat[:, 0] * 2 * np.pi\n",
    "#     zreu = dflat[:, 1]\n",
    "#     zimu = dflat[:, 2]\n",
    "#     return omgu, zreu, zimu\n",
    "\n",
    "\n",
    "# ---------------------------------------------------\n",
    "# This part of the code should be changed\n",
    "# in accordance with a user's problem.\n",
    "# By default, calculation of Warburg finite--length\n",
    "# DRT is performed.\n",
    "# ---------------------------------------------------\n",
    "#\n",
    "\n",
    "fname = './results/Warburg_'   # --- Prefix for output files name\n",
    "\n",
    "lamT0 = 1e-14   # --- Initial guess for Tikhonov reg. parameter\n",
    "lampg0 = 0.01   # --- Initial guess for PG reg. parameter\n",
    "mode = 'real'   # --- Use real part of impedance for DRT calculation.\n",
    "                # --- Set mode = 'imag' to use imaginary part.\n",
    "\n",
    "omg, zre, zim = ZWarburg()\n",
    "\n",
    "# --- To supply your data, comment or remove the previous line and\n",
    "# --- uncomment the next line:\n",
    "# omg, zre, zim = user_data()\n",
    "# --- The file 'MyImpedance.dat' must be placed\n",
    "# --- in the directory with python codes. This file\n",
    "# --- must contain 3 columns separated by commas:\n",
    "# ---       f(Hz),  zre,  zim\n",
    "# --- frequencies f must be in descending order and\n",
    "# --- zim must be positive.\n",
    "# ---------------------------------------------------\n",
    "# --- By default, the constrained TRF minimizer is used.\n",
    "# --- To call Levenberg-Marquardt change the next\n",
    "# --- line to: keylsq = 'lm'\n",
    "keylsq = 'lm'\n",
    "# ---------------------------------------------------\n",
    "\n",
    "zre -= zre[0]"
   ]
  },
  {
   "cell_type": "code",
   "execution_count": 2,
   "metadata": {},
   "outputs": [
    {
     "name": "stderr",
     "output_type": "stream",
     "text": [
      "WARNING:jax._src.lib.xla_bridge:No GPU/TPU found, falling back to CPU. (Set TF_CPP_MIN_LOG_LEVEL=0 and rerun for more info.)\n"
     ]
    }
   ],
   "source": [
    "data = {\"train\": omg}\n",
    "\n",
    "spline_basis = dmatrix(\"cr(train, df=3)\", data)\n",
    "\n",
    "# Convert to a JAX DeviceArray.\n",
    "spline_basis = jnp.array(spline_basis)"
   ]
  },
  {
   "cell_type": "code",
   "execution_count": 3,
   "metadata": {},
   "outputs": [
    {
     "name": "stdout",
     "output_type": "stream",
     "text": [
      "(132, 4)\n"
     ]
    }
   ],
   "source": [
    "print(spline_basis.shape)"
   ]
  },
  {
   "cell_type": "code",
   "execution_count": 16,
   "metadata": {},
   "outputs": [
    {
     "name": "stdout",
     "output_type": "stream",
     "text": [
      "(132, 132)\n"
     ]
    }
   ],
   "source": [
    "am = dmatrix(\"bs(omg, df={df}, include_intercept=True)\".format(df=len(omg)-1))\n",
    "print(am.shape)"
   ]
  },
  {
   "cell_type": "code",
   "execution_count": 15,
   "metadata": {},
   "outputs": [
    {
     "data": {
      "text/plain": [
       "132"
      ]
     },
     "execution_count": 15,
     "metadata": {},
     "output_type": "execute_result"
    }
   ],
   "source": [
    "len(omg)"
   ]
  }
 ],
 "metadata": {
  "kernelspec": {
   "display_name": "jax_cpu_env",
   "language": "python",
   "name": "python3"
  },
  "language_info": {
   "codemirror_mode": {
    "name": "ipython",
    "version": 3
   },
   "file_extension": ".py",
   "mimetype": "text/x-python",
   "name": "python",
   "nbconvert_exporter": "python",
   "pygments_lexer": "ipython3",
   "version": "3.10.8"
  },
  "orig_nbformat": 4
 },
 "nbformat": 4,
 "nbformat_minor": 2
}
